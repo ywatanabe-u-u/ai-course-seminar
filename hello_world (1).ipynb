{
  "nbformat": 4,
  "nbformat_minor": 0,
  "metadata": {
    "colab": {
      "provenance": [],
      "include_colab_link": true
    },
    "kernelspec": {
      "name": "python3",
      "display_name": "Python 3"
    },
    "language_info": {
      "name": "python"
    }
  },
  "cells": [
    {
      "cell_type": "markdown",
      "metadata": {
        "id": "view-in-github",
        "colab_type": "text"
      },
      "source": [
        "<a href=\"https://colab.research.google.com/github/ywatanabe-u-u/ai-course-seminar/blob/main/hello_world%20(1).ipynb\" target=\"_parent\"><img src=\"https://colab.research.google.com/assets/colab-badge.svg\" alt=\"Open In Colab\"/></a>"
      ]
    },
    {
      "cell_type": "code",
      "source": [
        "print(\"Hello, World!\")"
      ],
      "metadata": {
        "id": "q27BIKfSP4X9",
        "colab": {
          "base_uri": "https://localhost:8080/"
        },
        "outputId": "32d5db07-af9e-4df4-9656-ab9e42528273"
      },
      "execution_count": null,
      "outputs": [
        {
          "output_type": "stream",
          "name": "stdout",
          "text": [
            "Hello, World!\n"
          ]
        }
      ]
    },
    {
      "cell_type": "code",
      "source": [
        "result_list = []\n",
        "for i in range(1, 21):\n",
        "    if i % 3 == 0:\n",
        "        result_list.append(\"Multiple of 3\")\n",
        "    else:\n",
        "        result_list.append(i)\n",
        "\n",
        "print(result_list)"
      ],
      "metadata": {
        "id": "0AWYZeoQbNVI",
        "outputId": "1769de54-4d96-48d8-bc9f-97f0f02d8211",
        "colab": {
          "base_uri": "https://localhost:8080/"
        }
      },
      "execution_count": 14,
      "outputs": [
        {
          "output_type": "stream",
          "name": "stdout",
          "text": [
            "[1, 2, 'Multiple of 3', 4, 5, 'Multiple of 3', 7, 8, 'Multiple of 3', 10, 11, 'Multiple of 3', 13, 14, 'Multiple of 3', 16, 17, 'Multiple of 3', 19, 20]\n"
          ]
        }
      ]
    }
  ]
}