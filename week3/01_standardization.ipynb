{
  "nbformat": 4,
  "nbformat_minor": 0,
  "metadata": {
    "colab": {
      "provenance": []
    },
    "kernelspec": {
      "name": "python3",
      "display_name": "Python 3"
    },
    "language_info": {
      "name": "python"
    }
  },
  "cells": [
    {
      "cell_type": "code",
      "source": [
        "print(\"Hello, World!\")"
      ],
      "metadata": {
        "id": "q27BIKfSP4X9",
        "colab": {
          "base_uri": "https://localhost:8080/"
        },
        "outputId": "32d5db07-af9e-4df4-9656-ab9e42528273"
      },
      "execution_count": null,
      "outputs": [
        {
          "output_type": "stream",
          "name": "stdout",
          "text": [
            "Hello, World!\n"
          ]
        }
      ]
    },
    {
      "cell_type": "code",
      "source": [
        "import numpy as np\n",
        "\n",
        "data_2d = np.array([[1, 10],\n",
        "                    [2, 20],\n",
        "                    [3, 30]])\n",
        "\n",
        "### ここに各列ごとに標準化する処理を記述してください ###\n",
        "standardized_data_2d = (data_2d - np.mean(data_2d, axis=0)) / np.std(data_2d, axis=0)\n",
        "\n",
        "print(\"元の2次元データ:\\n\", data_2d)\n",
        "print(\"標準化された2次元データ（列ごと）:\\n\", standardized_data_2d)"
      ],
      "metadata": {
        "id": "p1UDXCdNLZpr"
      },
      "execution_count": null,
      "outputs": []
    }
  ]
}