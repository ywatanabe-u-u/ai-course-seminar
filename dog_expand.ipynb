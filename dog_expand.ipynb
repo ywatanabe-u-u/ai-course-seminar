{
  "nbformat": 4,
  "nbformat_minor": 0,
  "metadata": {
    "colab": {
      "provenance": [],
      "include_colab_link": true
    },
    "kernelspec": {
      "name": "python3",
      "display_name": "Python 3"
    },
    "language_info": {
      "name": "python"
    }
  },
  "cells": [
    {
      "cell_type": "markdown",
      "metadata": {
        "id": "view-in-github",
        "colab_type": "text"
      },
      "source": [
        "<a href=\"https://colab.research.google.com/github/ywatanabe-u-u/ai-course-seminar/blob/main/dog_expand.ipynb\" target=\"_parent\"><img src=\"https://colab.research.google.com/assets/colab-badge.svg\" alt=\"Open In Colab\"/></a>"
      ]
    },
    {
      "cell_type": "code",
      "source": [
        "\n",
        "# Dogクラスの定義(favorite属性とlikeメソッドを追加してください)\n",
        "class Dog:\n",
        "    def __init__(self, name, age, favorite):\n",
        "        self.name = name\n",
        "        self.age = age\n",
        "        self.favorite = favorite  # Add favorite attribute\n",
        "\n",
        "    def bark(self):\n",
        "        print(f\"{self.name}がワン！と吠えます。\")\n",
        "\n",
        "    def like(self):\n",
        "        print(f\"{self.name}の好物は{self.favorite}です。\")\n",
        "\n",
        "\n",
        "pochi = Dog(\"ポチ\", 3, \"ボール\")\n",
        "shiro = Dog(\"シロ\", 2, \"フリスビー\")\n",
        "\n",
        "pochi.bark()  # 出力: ポチがワン！と吠えます。\n",
        "shiro.bark()  # 出力: シロがワン！と吠えます。\n",
        "\n",
        "pochi.like()\n",
        "shiro.like()"
      ],
      "metadata": {
        "id": "q27BIKfSP4X9",
        "colab": {
          "base_uri": "https://localhost:8080/"
        },
        "outputId": "8602ea23-53d0-48ec-8dbd-7ea23443bab5"
      },
      "execution_count": null,
      "outputs": [
        {
          "output_type": "stream",
          "name": "stdout",
          "text": [
            "ポチがワン！と吠えます。\n",
            "シロがワン！と吠えます。\n",
            "ポチの好物はボールです。\n",
            "シロの好物はフリスビーです。\n"
          ]
        }
      ]
    }
  ]
}