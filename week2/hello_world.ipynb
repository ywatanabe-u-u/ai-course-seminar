In[2]

print("Hello world!!")
     
Hello world!!
