{
  "nbformat": 4,
  "nbformat_minor": 0,
  "metadata": {
    "colab": {
      "provenance": [],
      "name": "sum_numeric_list.ipynb"
    },
    "kernelspec": {
      "name": "python3",
      "display_name": "Python 3"
    },
    "language_info": {
      "name": "python"
    }
  },
  "cells": [
    {
      "cell_type": "code",
      "source": [
        "def sum_numeric_list(data):\n",
        "    total = 0\n",
        "    # ここに処理を記述\n",
        "    for item in data:\n",
        "        if isinstance(item, (int, float)):  # Check if the item is a number\n",
        "            total += item\n",
        "        else:\n",
        "            print(\"無効な値が含まれています：数値でない値\")  # Print error message\n",
        "\n",
        "    return total\n",
        "\n",
        "test_list1 = [1, 2, 3, 4, 5]\n",
        "test_list2 = [1, \"hello\", 3, \"world\", 5]\n",
        "print(f\"リスト1の合計: {sum_numeric_list(test_list1)}\")\n",
        "print(f\"リスト2の合計: {sum_numeric_list(test_list2)}\")"
      ],
      "metadata": {
        "id": "JOzFZvpc8DKB",
        "outputId": "76067425-751a-4fd8-d60b-6095f37e7715",
        "colab": {
          "base_uri": "https://localhost:8080/"
        }
      },
      "execution_count": 2,
      "outputs": [
        {
          "output_type": "stream",
          "name": "stdout",
          "text": [
            "リスト1の合計: 15\n",
            "無効な値が含まれています：数値でない値\n",
            "無効な値が含まれています：数値でない値\n",
            "リスト2の合計: 9\n"
          ]
        }
      ]
    }
  ]
}